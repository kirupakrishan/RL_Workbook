{
 "cells": [
  {
   "cell_type": "markdown",
   "metadata": {},
   "source": [
    "## Blackjack Problem Description\n",
    "\n",
    "Example 5.1: Blackjack The object of the popular casino card game of blackjack is to\n",
    "obtain cards the sum of whose numerical values is as great as possible without exceeding\n",
    "21. All face cards count as 10, and an ace can count either as 1 or as 11. We consider\n",
    "the version in which each player competes independently against the dealer. The game\n",
    "begins with two cards dealt to both dealer and player. One of the dealer’s cards is face\n",
    "up and the other is face down. If the player has 21 immediately (an ace and a 10-card),\n",
    "it is called a natural. He then wins unless the dealer also has a natural, in which case the\n",
    "game is a draw. If the player does not have a natural, then he can request additional\n",
    "cards, one by one (hits), until he either stops (sticks) or exceeds 21 (goes bust). If he goes\n",
    "bust, he loses; if he sticks, then it becomes the dealer’s turn. The dealer hits or sticks\n",
    "according to a fixed strategy without choice: he sticks on any sum of 17 or greater, and\n",
    "hits otherwise. If the dealer goes bust, then the player wins; otherwise, the outcome—win,\n",
    "lose, or draw—is determined by whose final sum is closer to 21.  \n",
    "\n",
    "\n",
    "Playing blackjack is naturally formulated as an episodic finite MDP. Each game of\n",
    "blackjack is an episode. Rewards of +1, 1, and 0 are given for winning, losing, and\n",
    "drawing, respectively. All rewards within a game are zero, and we do not discount ( = 1);\n",
    "therefore these terminal rewards are also the returns. The player’s actions are to hit or\n",
    "to stick. The states depend on the player’s cards and the dealer’s showing card. We\n",
    "assume that cards are dealt from an infinite deck (i.e., with replacement) so that there is\n",
    "no advantage to keeping track of the cards already dealt. If the player holds an ace that\n",
    "he could count as 11 without going bust, then the ace is said to be usable. In this case\n",
    "it is always counted as 11 because counting it as 1 would make the sum 11 or less, in\n",
    "which case there is no decision to be made because, obviously, the player should always\n",
    "hit. Thus, the player makes decisions on the basis of three variables: his current sum\n",
    "(12–21), the dealer’s one showing card (ace–10), and whether or not he holds a usable\n",
    "ace. This makes for a total of 200 states.  \n",
    "\n",
    "\n",
    "Consider the policy that sticks if the player’s sum is 20 or 21, and otherwise hits. To\n",
    "find the state-value function for this policy by a Monte Carlo approach, one simulates\n",
    "many blackjack games using the policy and averages the returns following each state.\n",
    "In this way, we obtained the estimates of the state-value function shown in Figure 5.1.\n",
    "The estimates for states with a usable ace are less certain and less regular because these\n",
    "states are less common. In any event, after 500,000 games the value function is very well\n",
    "approximated\n"
   ]
  },
  {
   "cell_type": "markdown",
   "metadata": {},
   "source": []
  }
 ],
 "metadata": {
  "language_info": {
   "name": "python"
  }
 },
 "nbformat": 4,
 "nbformat_minor": 2
}
